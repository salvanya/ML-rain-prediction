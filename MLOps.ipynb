{
  "cells": [
    {
      "cell_type": "markdown",
      "metadata": {
        "id": "EAcxmAQpIPOS"
      },
      "source": [
        "# Importar librerías necesarias"
      ]
    },
    {
      "cell_type": "code",
      "execution_count": 24,
      "metadata": {
        "id": "bqHg38BwriNE"
      },
      "outputs": [],
      "source": [
        "# Librerías generales\n",
        "import numpy as np\n",
        "import pandas as pd\n",
        "import warnings\n",
        "\n",
        "warnings.filterwarnings(\"ignore\")\n",
        "\n",
        "# Statsmodels y SciPy\n",
        "from scipy.stats import pearsonr\n",
        "\n",
        "# Scikit-learn\n",
        "from sklearn.linear_model import LogisticRegression\n",
        "from sklearn.preprocessing import StandardScaler\n",
        "from sklearn.impute import KNNImputer\n",
        "from sklearn.pipeline import Pipeline\n",
        "from sklearn.metrics import (mean_squared_error, r2_score,accuracy_score, precision_score, recall_score, f1_score)\n",
        "\n",
        "# Imbalanced-learn\n",
        "from imblearn.over_sampling import SMOTE\n",
        "\n",
        "# Tensorflow\n",
        "from tensorflow import keras\n",
        "\n",
        "# Scikit-learn y Tensorflow (repetidos, puedes eliminar uno de cada par)\n",
        "from sklearn.model_selection import train_test_split\n",
        "from sklearn.base import BaseEstimator, TransformerMixin\n",
        "from sklearn.neural_network import MLPRegressor\n",
        "\n",
        "# Funciones generales\n",
        "from sklearn.metrics import (accuracy_score, precision_score, recall_score, f1_score)\n",
        "\n",
        "# Guardar y cargar modelos\n",
        "import joblib"
      ]
    },
    {
      "cell_type": "markdown",
      "metadata": {
        "id": "aSeYnIZntq5O"
      },
      "source": [
        "# Importar y procesar datos para el entrenamiento y prueba de los modelos"
      ]
    },
    {
      "cell_type": "markdown",
      "metadata": {
        "id": "fuMleGhva6If"
      },
      "source": [
        "## Importar el dataset"
      ]
    },
    {
      "cell_type": "code",
      "execution_count": 25,
      "metadata": {
        "id": "FFTyfJhGJ1uq"
      },
      "outputs": [],
      "source": [
        "weatherAUS_df = pd.read_csv('weatherAUS.csv')"
      ]
    },
    {
      "cell_type": "markdown",
      "metadata": {
        "id": "Z--fcT5mjYuV"
      },
      "source": [
        "## Procesar los datos\n"
      ]
    },
    {
      "cell_type": "code",
      "execution_count": 26,
      "metadata": {
        "id": "v1VDztMxxXVF"
      },
      "outputs": [],
      "source": [
        "# Función de procesamiento de datos\n",
        "def process_data(df):\n",
        "\n",
        "    # Eliminar columnas innecesarias ----------------------------------------------------------------------------------------------------------------\n",
        "    # Eliminar la columna 'Unnamed: 0'\n",
        "    df = df.drop(columns=['Unnamed: 0'])\n",
        "\n",
        "    # Eliminar registros con datos nulos en las variables respuesta 'RainTomorrow' y 'RainfallTomorrow'\n",
        "    df.dropna(subset=['RainTomorrow', 'RainfallTomorrow'], inplace=True)\n",
        "\n",
        "    # Lista de ubicaciones de interés\n",
        "    ubicaciones_interes = [\"Sydney\", \"SydneyAirport\", \"Canberra\", \"Melbourne\", \"MelbourneAirport\"]\n",
        "\n",
        "    # Filtrar las filas en base a las ubicaciones interes\n",
        "    df = df[df['Location'].isin(ubicaciones_interes)]\n",
        "\n",
        "    # Eliminar direcciones del viento\n",
        "    columns_to_exclude = [col for col in df.columns if \"Dir\" in col]\n",
        "    df.drop(columns=columns_to_exclude, inplace = True)\n",
        "\n",
        "    # Utilizar replace para cambiar el valor 9 por NaN en 'Cloud9am' --------------------------------------------------------------------------------\n",
        "    df['Cloud9am'] = df['Cloud9am'].replace(9, np.nan)\n",
        "\n",
        "    # Codificar la fecha y otras variables categóricas ---------------------------------------------------------------------------------------------\n",
        "    # Crear una variable wet_month para saber si la fecha corresponde a un mes lluvioso o no\n",
        "    df['Date'] = pd.to_datetime(df['Date'])\n",
        "    df['wet_month'] = df['Date'].apply(lambda x: 1.0 if 5 <= x.month <= 10 else 0.0)\n",
        "    df.drop(columns=['Date'], inplace=True)\n",
        "\n",
        "    # Codificar las variables categóricas de si llovió en la fecha y la localización\n",
        "    columns_to_encode = ['Location', 'RainToday', 'RainTomorrow']\n",
        "    df = pd.get_dummies(df, columns=columns_to_encode, drop_first=True)\n",
        "    new_columns_names = ['Location_Melbourne',\t'Location_MelbourneAirport',\t'Location_Sydney',\t'Location_SydneyAirport', 'RainToday_Yes',\t'RainTomorrow_Yes'] \n",
        "    df[new_columns_names] = df[new_columns_names].astype(float)\n",
        "\n",
        "    return df"
      ]
    },
    {
      "cell_type": "code",
      "execution_count": 27,
      "metadata": {
        "id": "oWy0Zd9xjgfd"
      },
      "outputs": [],
      "source": [
        "x_train_processed = process_data(weatherAUS_df)"
      ]
    },
    {
      "cell_type": "code",
      "execution_count": 28,
      "metadata": {},
      "outputs": [
        {
          "data": {
            "text/html": [
              "<div>\n",
              "<style scoped>\n",
              "    .dataframe tbody tr th:only-of-type {\n",
              "        vertical-align: middle;\n",
              "    }\n",
              "\n",
              "    .dataframe tbody tr th {\n",
              "        vertical-align: top;\n",
              "    }\n",
              "\n",
              "    .dataframe thead th {\n",
              "        text-align: right;\n",
              "    }\n",
              "</style>\n",
              "<table border=\"1\" class=\"dataframe\">\n",
              "  <thead>\n",
              "    <tr style=\"text-align: right;\">\n",
              "      <th></th>\n",
              "      <th>MinTemp</th>\n",
              "      <th>MaxTemp</th>\n",
              "      <th>Rainfall</th>\n",
              "      <th>Evaporation</th>\n",
              "      <th>Sunshine</th>\n",
              "      <th>WindGustSpeed</th>\n",
              "      <th>WindSpeed9am</th>\n",
              "      <th>WindSpeed3pm</th>\n",
              "      <th>Humidity9am</th>\n",
              "      <th>Humidity3pm</th>\n",
              "      <th>...</th>\n",
              "      <th>Temp9am</th>\n",
              "      <th>Temp3pm</th>\n",
              "      <th>RainfallTomorrow</th>\n",
              "      <th>wet_month</th>\n",
              "      <th>Location_Melbourne</th>\n",
              "      <th>Location_MelbourneAirport</th>\n",
              "      <th>Location_Sydney</th>\n",
              "      <th>Location_SydneyAirport</th>\n",
              "      <th>RainToday_Yes</th>\n",
              "      <th>RainTomorrow_Yes</th>\n",
              "    </tr>\n",
              "  </thead>\n",
              "  <tbody>\n",
              "    <tr>\n",
              "      <th>30167</th>\n",
              "      <td>19.5</td>\n",
              "      <td>22.4</td>\n",
              "      <td>15.6</td>\n",
              "      <td>6.2</td>\n",
              "      <td>0.0</td>\n",
              "      <td>NaN</td>\n",
              "      <td>17.0</td>\n",
              "      <td>20.0</td>\n",
              "      <td>92.0</td>\n",
              "      <td>84.0</td>\n",
              "      <td>...</td>\n",
              "      <td>20.7</td>\n",
              "      <td>20.9</td>\n",
              "      <td>6.0</td>\n",
              "      <td>0.0</td>\n",
              "      <td>0.0</td>\n",
              "      <td>0.0</td>\n",
              "      <td>1.0</td>\n",
              "      <td>0.0</td>\n",
              "      <td>1.0</td>\n",
              "      <td>1.0</td>\n",
              "    </tr>\n",
              "    <tr>\n",
              "      <th>30168</th>\n",
              "      <td>19.5</td>\n",
              "      <td>25.6</td>\n",
              "      <td>6.0</td>\n",
              "      <td>3.4</td>\n",
              "      <td>2.7</td>\n",
              "      <td>NaN</td>\n",
              "      <td>9.0</td>\n",
              "      <td>13.0</td>\n",
              "      <td>83.0</td>\n",
              "      <td>73.0</td>\n",
              "      <td>...</td>\n",
              "      <td>22.4</td>\n",
              "      <td>24.8</td>\n",
              "      <td>6.6</td>\n",
              "      <td>0.0</td>\n",
              "      <td>0.0</td>\n",
              "      <td>0.0</td>\n",
              "      <td>1.0</td>\n",
              "      <td>0.0</td>\n",
              "      <td>1.0</td>\n",
              "      <td>1.0</td>\n",
              "    </tr>\n",
              "    <tr>\n",
              "      <th>30169</th>\n",
              "      <td>21.6</td>\n",
              "      <td>24.5</td>\n",
              "      <td>6.6</td>\n",
              "      <td>2.4</td>\n",
              "      <td>0.1</td>\n",
              "      <td>NaN</td>\n",
              "      <td>17.0</td>\n",
              "      <td>2.0</td>\n",
              "      <td>88.0</td>\n",
              "      <td>86.0</td>\n",
              "      <td>...</td>\n",
              "      <td>23.5</td>\n",
              "      <td>23.0</td>\n",
              "      <td>18.8</td>\n",
              "      <td>0.0</td>\n",
              "      <td>0.0</td>\n",
              "      <td>0.0</td>\n",
              "      <td>1.0</td>\n",
              "      <td>0.0</td>\n",
              "      <td>1.0</td>\n",
              "      <td>1.0</td>\n",
              "    </tr>\n",
              "    <tr>\n",
              "      <th>30170</th>\n",
              "      <td>20.2</td>\n",
              "      <td>22.8</td>\n",
              "      <td>18.8</td>\n",
              "      <td>2.2</td>\n",
              "      <td>0.0</td>\n",
              "      <td>NaN</td>\n",
              "      <td>22.0</td>\n",
              "      <td>20.0</td>\n",
              "      <td>83.0</td>\n",
              "      <td>90.0</td>\n",
              "      <td>...</td>\n",
              "      <td>21.4</td>\n",
              "      <td>20.9</td>\n",
              "      <td>77.4</td>\n",
              "      <td>0.0</td>\n",
              "      <td>0.0</td>\n",
              "      <td>0.0</td>\n",
              "      <td>1.0</td>\n",
              "      <td>0.0</td>\n",
              "      <td>1.0</td>\n",
              "      <td>1.0</td>\n",
              "    </tr>\n",
              "    <tr>\n",
              "      <th>30171</th>\n",
              "      <td>19.7</td>\n",
              "      <td>25.7</td>\n",
              "      <td>77.4</td>\n",
              "      <td>NaN</td>\n",
              "      <td>0.0</td>\n",
              "      <td>NaN</td>\n",
              "      <td>11.0</td>\n",
              "      <td>6.0</td>\n",
              "      <td>88.0</td>\n",
              "      <td>74.0</td>\n",
              "      <td>...</td>\n",
              "      <td>22.5</td>\n",
              "      <td>25.5</td>\n",
              "      <td>1.6</td>\n",
              "      <td>0.0</td>\n",
              "      <td>0.0</td>\n",
              "      <td>0.0</td>\n",
              "      <td>1.0</td>\n",
              "      <td>0.0</td>\n",
              "      <td>1.0</td>\n",
              "      <td>1.0</td>\n",
              "    </tr>\n",
              "    <tr>\n",
              "      <th>...</th>\n",
              "      <td>...</td>\n",
              "      <td>...</td>\n",
              "      <td>...</td>\n",
              "      <td>...</td>\n",
              "      <td>...</td>\n",
              "      <td>...</td>\n",
              "      <td>...</td>\n",
              "      <td>...</td>\n",
              "      <td>...</td>\n",
              "      <td>...</td>\n",
              "      <td>...</td>\n",
              "      <td>...</td>\n",
              "      <td>...</td>\n",
              "      <td>...</td>\n",
              "      <td>...</td>\n",
              "      <td>...</td>\n",
              "      <td>...</td>\n",
              "      <td>...</td>\n",
              "      <td>...</td>\n",
              "      <td>...</td>\n",
              "      <td>...</td>\n",
              "    </tr>\n",
              "    <tr>\n",
              "      <th>70366</th>\n",
              "      <td>6.4</td>\n",
              "      <td>15.8</td>\n",
              "      <td>0.0</td>\n",
              "      <td>2.4</td>\n",
              "      <td>8.8</td>\n",
              "      <td>39.0</td>\n",
              "      <td>11.0</td>\n",
              "      <td>17.0</td>\n",
              "      <td>84.0</td>\n",
              "      <td>56.0</td>\n",
              "      <td>...</td>\n",
              "      <td>7.9</td>\n",
              "      <td>15.6</td>\n",
              "      <td>0.6</td>\n",
              "      <td>1.0</td>\n",
              "      <td>1.0</td>\n",
              "      <td>0.0</td>\n",
              "      <td>0.0</td>\n",
              "      <td>0.0</td>\n",
              "      <td>0.0</td>\n",
              "      <td>0.0</td>\n",
              "    </tr>\n",
              "    <tr>\n",
              "      <th>70367</th>\n",
              "      <td>7.8</td>\n",
              "      <td>13.5</td>\n",
              "      <td>0.6</td>\n",
              "      <td>0.6</td>\n",
              "      <td>0.0</td>\n",
              "      <td>24.0</td>\n",
              "      <td>2.0</td>\n",
              "      <td>9.0</td>\n",
              "      <td>100.0</td>\n",
              "      <td>80.0</td>\n",
              "      <td>...</td>\n",
              "      <td>11.2</td>\n",
              "      <td>12.7</td>\n",
              "      <td>0.2</td>\n",
              "      <td>1.0</td>\n",
              "      <td>1.0</td>\n",
              "      <td>0.0</td>\n",
              "      <td>0.0</td>\n",
              "      <td>0.0</td>\n",
              "      <td>0.0</td>\n",
              "      <td>0.0</td>\n",
              "    </tr>\n",
              "    <tr>\n",
              "      <th>70368</th>\n",
              "      <td>6.7</td>\n",
              "      <td>14.1</td>\n",
              "      <td>0.2</td>\n",
              "      <td>0.6</td>\n",
              "      <td>0.0</td>\n",
              "      <td>24.0</td>\n",
              "      <td>9.0</td>\n",
              "      <td>11.0</td>\n",
              "      <td>93.0</td>\n",
              "      <td>56.0</td>\n",
              "      <td>...</td>\n",
              "      <td>7.5</td>\n",
              "      <td>13.5</td>\n",
              "      <td>0.0</td>\n",
              "      <td>1.0</td>\n",
              "      <td>1.0</td>\n",
              "      <td>0.0</td>\n",
              "      <td>0.0</td>\n",
              "      <td>0.0</td>\n",
              "      <td>0.0</td>\n",
              "      <td>0.0</td>\n",
              "    </tr>\n",
              "    <tr>\n",
              "      <th>70369</th>\n",
              "      <td>7.4</td>\n",
              "      <td>14.9</td>\n",
              "      <td>0.0</td>\n",
              "      <td>1.6</td>\n",
              "      <td>6.0</td>\n",
              "      <td>44.0</td>\n",
              "      <td>17.0</td>\n",
              "      <td>19.0</td>\n",
              "      <td>77.0</td>\n",
              "      <td>63.0</td>\n",
              "      <td>...</td>\n",
              "      <td>9.1</td>\n",
              "      <td>12.5</td>\n",
              "      <td>1.4</td>\n",
              "      <td>1.0</td>\n",
              "      <td>1.0</td>\n",
              "      <td>0.0</td>\n",
              "      <td>0.0</td>\n",
              "      <td>0.0</td>\n",
              "      <td>0.0</td>\n",
              "      <td>1.0</td>\n",
              "    </tr>\n",
              "    <tr>\n",
              "      <th>70370</th>\n",
              "      <td>8.3</td>\n",
              "      <td>12.3</td>\n",
              "      <td>1.4</td>\n",
              "      <td>1.8</td>\n",
              "      <td>5.6</td>\n",
              "      <td>30.0</td>\n",
              "      <td>11.0</td>\n",
              "      <td>2.0</td>\n",
              "      <td>75.0</td>\n",
              "      <td>63.0</td>\n",
              "      <td>...</td>\n",
              "      <td>9.6</td>\n",
              "      <td>11.2</td>\n",
              "      <td>0.0</td>\n",
              "      <td>1.0</td>\n",
              "      <td>1.0</td>\n",
              "      <td>0.0</td>\n",
              "      <td>0.0</td>\n",
              "      <td>0.0</td>\n",
              "      <td>1.0</td>\n",
              "      <td>0.0</td>\n",
              "    </tr>\n",
              "  </tbody>\n",
              "</table>\n",
              "<p>15199 rows × 24 columns</p>\n",
              "</div>"
            ],
            "text/plain": [
              "       MinTemp  MaxTemp  Rainfall  Evaporation  Sunshine  WindGustSpeed  \\\n",
              "30167     19.5     22.4      15.6          6.2       0.0            NaN   \n",
              "30168     19.5     25.6       6.0          3.4       2.7            NaN   \n",
              "30169     21.6     24.5       6.6          2.4       0.1            NaN   \n",
              "30170     20.2     22.8      18.8          2.2       0.0            NaN   \n",
              "30171     19.7     25.7      77.4          NaN       0.0            NaN   \n",
              "...        ...      ...       ...          ...       ...            ...   \n",
              "70366      6.4     15.8       0.0          2.4       8.8           39.0   \n",
              "70367      7.8     13.5       0.6          0.6       0.0           24.0   \n",
              "70368      6.7     14.1       0.2          0.6       0.0           24.0   \n",
              "70369      7.4     14.9       0.0          1.6       6.0           44.0   \n",
              "70370      8.3     12.3       1.4          1.8       5.6           30.0   \n",
              "\n",
              "       WindSpeed9am  WindSpeed3pm  Humidity9am  Humidity3pm  ...  Temp9am  \\\n",
              "30167          17.0          20.0         92.0         84.0  ...     20.7   \n",
              "30168           9.0          13.0         83.0         73.0  ...     22.4   \n",
              "30169          17.0           2.0         88.0         86.0  ...     23.5   \n",
              "30170          22.0          20.0         83.0         90.0  ...     21.4   \n",
              "30171          11.0           6.0         88.0         74.0  ...     22.5   \n",
              "...             ...           ...          ...          ...  ...      ...   \n",
              "70366          11.0          17.0         84.0         56.0  ...      7.9   \n",
              "70367           2.0           9.0        100.0         80.0  ...     11.2   \n",
              "70368           9.0          11.0         93.0         56.0  ...      7.5   \n",
              "70369          17.0          19.0         77.0         63.0  ...      9.1   \n",
              "70370          11.0           2.0         75.0         63.0  ...      9.6   \n",
              "\n",
              "       Temp3pm  RainfallTomorrow  wet_month  Location_Melbourne  \\\n",
              "30167     20.9               6.0        0.0                 0.0   \n",
              "30168     24.8               6.6        0.0                 0.0   \n",
              "30169     23.0              18.8        0.0                 0.0   \n",
              "30170     20.9              77.4        0.0                 0.0   \n",
              "30171     25.5               1.6        0.0                 0.0   \n",
              "...        ...               ...        ...                 ...   \n",
              "70366     15.6               0.6        1.0                 1.0   \n",
              "70367     12.7               0.2        1.0                 1.0   \n",
              "70368     13.5               0.0        1.0                 1.0   \n",
              "70369     12.5               1.4        1.0                 1.0   \n",
              "70370     11.2               0.0        1.0                 1.0   \n",
              "\n",
              "       Location_MelbourneAirport  Location_Sydney  Location_SydneyAirport  \\\n",
              "30167                        0.0              1.0                     0.0   \n",
              "30168                        0.0              1.0                     0.0   \n",
              "30169                        0.0              1.0                     0.0   \n",
              "30170                        0.0              1.0                     0.0   \n",
              "30171                        0.0              1.0                     0.0   \n",
              "...                          ...              ...                     ...   \n",
              "70366                        0.0              0.0                     0.0   \n",
              "70367                        0.0              0.0                     0.0   \n",
              "70368                        0.0              0.0                     0.0   \n",
              "70369                        0.0              0.0                     0.0   \n",
              "70370                        0.0              0.0                     0.0   \n",
              "\n",
              "       RainToday_Yes  RainTomorrow_Yes  \n",
              "30167            1.0               1.0  \n",
              "30168            1.0               1.0  \n",
              "30169            1.0               1.0  \n",
              "30170            1.0               1.0  \n",
              "30171            1.0               1.0  \n",
              "...              ...               ...  \n",
              "70366            0.0               0.0  \n",
              "70367            0.0               0.0  \n",
              "70368            0.0               0.0  \n",
              "70369            0.0               1.0  \n",
              "70370            1.0               0.0  \n",
              "\n",
              "[15199 rows x 24 columns]"
            ]
          },
          "execution_count": 28,
          "metadata": {},
          "output_type": "execute_result"
        }
      ],
      "source": [
        "x_train_processed"
      ]
    },
    {
      "cell_type": "code",
      "execution_count": 29,
      "metadata": {
        "colab": {
          "base_uri": "https://localhost:8080/",
          "height": 130
        },
        "id": "j3JWUyty5_wM",
        "outputId": "1f367c20-ee0c-4491-8447-afe1fd643269"
      },
      "outputs": [
        {
          "data": {
            "text/html": [
              "<div>\n",
              "<style scoped>\n",
              "    .dataframe tbody tr th:only-of-type {\n",
              "        vertical-align: middle;\n",
              "    }\n",
              "\n",
              "    .dataframe tbody tr th {\n",
              "        vertical-align: top;\n",
              "    }\n",
              "\n",
              "    .dataframe thead th {\n",
              "        text-align: right;\n",
              "    }\n",
              "</style>\n",
              "<table border=\"1\" class=\"dataframe\">\n",
              "  <thead>\n",
              "    <tr style=\"text-align: right;\">\n",
              "      <th></th>\n",
              "      <th>MinTemp</th>\n",
              "      <th>MaxTemp</th>\n",
              "      <th>Rainfall</th>\n",
              "      <th>Evaporation</th>\n",
              "      <th>Sunshine</th>\n",
              "      <th>WindGustSpeed</th>\n",
              "      <th>WindSpeed9am</th>\n",
              "      <th>WindSpeed3pm</th>\n",
              "      <th>Humidity9am</th>\n",
              "      <th>Humidity3pm</th>\n",
              "      <th>...</th>\n",
              "      <th>Temp9am</th>\n",
              "      <th>Temp3pm</th>\n",
              "      <th>RainfallTomorrow</th>\n",
              "      <th>wet_month</th>\n",
              "      <th>Location_Melbourne</th>\n",
              "      <th>Location_MelbourneAirport</th>\n",
              "      <th>Location_Sydney</th>\n",
              "      <th>Location_SydneyAirport</th>\n",
              "      <th>RainToday_Yes</th>\n",
              "      <th>RainTomorrow_Yes</th>\n",
              "    </tr>\n",
              "  </thead>\n",
              "  <tbody>\n",
              "    <tr>\n",
              "      <th>30169</th>\n",
              "      <td>21.6</td>\n",
              "      <td>24.5</td>\n",
              "      <td>6.6</td>\n",
              "      <td>2.4</td>\n",
              "      <td>0.1</td>\n",
              "      <td>NaN</td>\n",
              "      <td>17.0</td>\n",
              "      <td>2.0</td>\n",
              "      <td>88.0</td>\n",
              "      <td>86.0</td>\n",
              "      <td>...</td>\n",
              "      <td>23.5</td>\n",
              "      <td>23.0</td>\n",
              "      <td>18.8</td>\n",
              "      <td>0.0</td>\n",
              "      <td>0.0</td>\n",
              "      <td>0.0</td>\n",
              "      <td>1.0</td>\n",
              "      <td>0.0</td>\n",
              "      <td>1.0</td>\n",
              "      <td>1.0</td>\n",
              "    </tr>\n",
              "  </tbody>\n",
              "</table>\n",
              "<p>1 rows × 24 columns</p>\n",
              "</div>"
            ],
            "text/plain": [
              "       MinTemp  MaxTemp  Rainfall  Evaporation  Sunshine  WindGustSpeed  \\\n",
              "30169     21.6     24.5       6.6          2.4       0.1            NaN   \n",
              "\n",
              "       WindSpeed9am  WindSpeed3pm  Humidity9am  Humidity3pm  ...  Temp9am  \\\n",
              "30169          17.0           2.0         88.0         86.0  ...     23.5   \n",
              "\n",
              "       Temp3pm  RainfallTomorrow  wet_month  Location_Melbourne  \\\n",
              "30169     23.0              18.8        0.0                 0.0   \n",
              "\n",
              "       Location_MelbourneAirport  Location_Sydney  Location_SydneyAirport  \\\n",
              "30169                        0.0              1.0                     0.0   \n",
              "\n",
              "       RainToday_Yes  RainTomorrow_Yes  \n",
              "30169            1.0               1.0  \n",
              "\n",
              "[1 rows x 24 columns]"
            ]
          },
          "execution_count": 29,
          "metadata": {},
          "output_type": "execute_result"
        }
      ],
      "source": [
        "x_train_processed.iloc[[2]]"
      ]
    },
    {
      "cell_type": "markdown",
      "metadata": {
        "id": "Nckxb1MHJmT8"
      },
      "source": [
        "## Separar conjuntos de entrenamiento y de prueba"
      ]
    },
    {
      "cell_type": "code",
      "execution_count": 30,
      "metadata": {
        "id": "8xnqpDI3Jp-I"
      },
      "outputs": [],
      "source": [
        "def split_datasets(df):\n",
        "    # Definir las columnas explicativas (X) y las variables de respuesta (y) para regresión y clasificación\n",
        "    features = df.drop(columns=['RainfallTomorrow', 'RainTomorrow_Yes'])\n",
        "    target_reg = df['RainfallTomorrow']\n",
        "    target_class = df['RainTomorrow_Yes']\n",
        "\n",
        "    # Separar el conjunto de entrenamiento y prueba\n",
        "    x_train, x_test, y_train_reg, y_test_reg, y_train_class, y_test_class = train_test_split(\n",
        "        features, target_reg, target_class, test_size=0.2, random_state=7\n",
        "    )\n",
        "\n",
        "    return x_train, x_test, y_train_reg, y_test_reg, y_train_class, y_test_class"
      ]
    },
    {
      "cell_type": "code",
      "execution_count": 31,
      "metadata": {
        "id": "71tQPUFSOiZY"
      },
      "outputs": [],
      "source": [
        "# Uso de la función con tu DataFrame\n",
        "x_train, x_test, y_train_reg, y_test_reg, y_train_class, y_test_class = split_datasets(x_train_processed)"
      ]
    },
    {
      "cell_type": "code",
      "execution_count": 32,
      "metadata": {
        "colab": {
          "base_uri": "https://localhost:8080/",
          "height": 130
        },
        "id": "ibn_cxkE6L2t",
        "outputId": "0fe59416-08bb-4c51-ca66-8755054cbeab"
      },
      "outputs": [
        {
          "data": {
            "text/html": [
              "<div>\n",
              "<style scoped>\n",
              "    .dataframe tbody tr th:only-of-type {\n",
              "        vertical-align: middle;\n",
              "    }\n",
              "\n",
              "    .dataframe tbody tr th {\n",
              "        vertical-align: top;\n",
              "    }\n",
              "\n",
              "    .dataframe thead th {\n",
              "        text-align: right;\n",
              "    }\n",
              "</style>\n",
              "<table border=\"1\" class=\"dataframe\">\n",
              "  <thead>\n",
              "    <tr style=\"text-align: right;\">\n",
              "      <th></th>\n",
              "      <th>MinTemp</th>\n",
              "      <th>MaxTemp</th>\n",
              "      <th>Rainfall</th>\n",
              "      <th>Evaporation</th>\n",
              "      <th>Sunshine</th>\n",
              "      <th>WindGustSpeed</th>\n",
              "      <th>WindSpeed9am</th>\n",
              "      <th>WindSpeed3pm</th>\n",
              "      <th>Humidity9am</th>\n",
              "      <th>Humidity3pm</th>\n",
              "      <th>...</th>\n",
              "      <th>Cloud9am</th>\n",
              "      <th>Cloud3pm</th>\n",
              "      <th>Temp9am</th>\n",
              "      <th>Temp3pm</th>\n",
              "      <th>wet_month</th>\n",
              "      <th>Location_Melbourne</th>\n",
              "      <th>Location_MelbourneAirport</th>\n",
              "      <th>Location_Sydney</th>\n",
              "      <th>Location_SydneyAirport</th>\n",
              "      <th>RainToday_Yes</th>\n",
              "    </tr>\n",
              "  </thead>\n",
              "  <tbody>\n",
              "    <tr>\n",
              "      <th>36093</th>\n",
              "      <td>13.9</td>\n",
              "      <td>23.2</td>\n",
              "      <td>0.0</td>\n",
              "      <td>2.8</td>\n",
              "      <td>9.6</td>\n",
              "      <td>31.0</td>\n",
              "      <td>9.0</td>\n",
              "      <td>22.0</td>\n",
              "      <td>68.0</td>\n",
              "      <td>59.0</td>\n",
              "      <td>...</td>\n",
              "      <td>3.0</td>\n",
              "      <td>3.0</td>\n",
              "      <td>20.1</td>\n",
              "      <td>22.1</td>\n",
              "      <td>0.0</td>\n",
              "      <td>0.0</td>\n",
              "      <td>0.0</td>\n",
              "      <td>0.0</td>\n",
              "      <td>1.0</td>\n",
              "      <td>0.0</td>\n",
              "    </tr>\n",
              "  </tbody>\n",
              "</table>\n",
              "<p>1 rows × 22 columns</p>\n",
              "</div>"
            ],
            "text/plain": [
              "       MinTemp  MaxTemp  Rainfall  Evaporation  Sunshine  WindGustSpeed  \\\n",
              "36093     13.9     23.2       0.0          2.8       9.6           31.0   \n",
              "\n",
              "       WindSpeed9am  WindSpeed3pm  Humidity9am  Humidity3pm  ...  Cloud9am  \\\n",
              "36093           9.0          22.0         68.0         59.0  ...       3.0   \n",
              "\n",
              "       Cloud3pm  Temp9am  Temp3pm  wet_month  Location_Melbourne  \\\n",
              "36093       3.0     20.1     22.1        0.0                 0.0   \n",
              "\n",
              "       Location_MelbourneAirport  Location_Sydney  Location_SydneyAirport  \\\n",
              "36093                        0.0              0.0                     1.0   \n",
              "\n",
              "       RainToday_Yes  \n",
              "36093            0.0  \n",
              "\n",
              "[1 rows x 22 columns]"
            ]
          },
          "execution_count": 32,
          "metadata": {},
          "output_type": "execute_result"
        }
      ],
      "source": [
        "x_test.iloc[[2]]"
      ]
    },
    {
      "cell_type": "markdown",
      "metadata": {
        "id": "aKbTXun9u22t"
      },
      "source": [
        "# Procesamiento de los datos"
      ]
    },
    {
      "cell_type": "code",
      "execution_count": 33,
      "metadata": {
        "id": "5s_Bgvo-lNUR"
      },
      "outputs": [],
      "source": [
        "class DataProcessor(TransformerMixin, BaseEstimator):\n",
        "    def __init__(self):\n",
        "        self.scaler = StandardScaler()\n",
        "        self.knn_imputer = KNNImputer(n_neighbors=5)\n",
        "\n",
        "    def impute_RainToday(self, df):\n",
        "        # Imputar datos de RainToday\n",
        "        df['RainToday_Yes'] = df.apply(lambda row: 1 if row['Rainfall'] >= 1.2 else 0, axis=1)\n",
        "        return df\n",
        "\n",
        "    def fit(self, X, y=None):\n",
        "        # Obtener columnas númericas\n",
        "        columnas_numericas = list(X.select_dtypes(include=['float64']).columns)\n",
        "\n",
        "        # Ajustar el imputador K-NN\n",
        "        self.knn_imputer.fit(X[columnas_numericas])\n",
        "\n",
        "        # Ajustar el escalador\n",
        "        self.scaler.fit(X[columnas_numericas])\n",
        "\n",
        "        return self\n",
        "\n",
        "    def transform(self, X):\n",
        "        # Obtener columnas númericas\n",
        "        columnas_numericas = list(X.select_dtypes(include=['float64']).columns)\n",
        "\n",
        "        # Aplica el imputador a las columnas seleccionadas\n",
        "        X[columnas_numericas] = self.knn_imputer.transform(X[columnas_numericas])\n",
        "\n",
        "        # Llamar a la función impute_RainToday\n",
        "        X = self.impute_RainToday(X)\n",
        "\n",
        "        # Escalar características\n",
        "        X[columnas_numericas] = self.scaler.transform(X[columnas_numericas])\n",
        "\n",
        "        return X"
      ]
    },
    {
      "cell_type": "markdown",
      "metadata": {
        "id": "80o5ObYArUDg"
      },
      "source": [
        "# Modelos"
      ]
    },
    {
      "cell_type": "markdown",
      "metadata": {
        "id": "4WemfHNlulKq"
      },
      "source": [
        "## Regresión"
      ]
    },
    {
      "cell_type": "code",
      "execution_count": 34,
      "metadata": {
        "id": "NI-KPUfsvGra"
      },
      "outputs": [],
      "source": [
        "class NeuralNetworkPipeline(BaseEstimator, TransformerMixin):\n",
        "    def __init__(self):\n",
        "        self.num_layers = 1\n",
        "        self.num_neurons = 32\n",
        "        self.epochs = 70\n",
        "        self.batch_size = 32\n",
        "        self.model = None\n",
        "        self.scaler = None\n",
        "        self.knn_imputer = None\n",
        "        self.best_params = None\n",
        "\n",
        "    def fit(self, X, y):\n",
        "        # Construir y compilar el modelo de la red neuronal\n",
        "        self.model = self.build_model(X, self.num_layers, self.num_neurons)\n",
        "\n",
        "        self.model.fit(X, y, epochs=self.epochs, batch_size=self.batch_size, verbose=0)\n",
        "        return self\n",
        "\n",
        "    def predict(self, X):\n",
        "        # Realizar predicciones\n",
        "        predictions = self.model.predict(X)\n",
        "        return predictions\n",
        "\n",
        "    def score(self, X, y, metric='r2'):\n",
        "        # Calcular la métrica especificada (predicciones vs. valores reales)\n",
        "        predictions = self.predict(X)\n",
        "\n",
        "        if metric == 'r2':\n",
        "            score = r2_score(y, predictions)\n",
        "        elif metric == 'rmse':\n",
        "            mse = mean_squared_error(y, predictions)\n",
        "            score = np.sqrt(mse)\n",
        "        else:\n",
        "            raise ValueError(\"Métrica no válida. Use 'r2' o 'rmse'.\")\n",
        "        return score\n",
        "\n",
        "    def build_model(self, X, num_layers, num_neurons):\n",
        "        model = keras.Sequential()\n",
        "        model.add(keras.layers.Dense(num_neurons, activation='relu', input_shape=(X.shape[1],)))\n",
        "\n",
        "        for _ in range(num_layers - 1):\n",
        "            model.add(keras.layers.Dense(num_neurons, activation='relu'))\n",
        "\n",
        "        model.add(keras.layers.Dense(1, activation='linear'))\n",
        "        model.compile(optimizer='adam', loss='mean_squared_error')\n",
        "        return model"
      ]
    },
    {
      "cell_type": "markdown",
      "metadata": {
        "id": "UfiQO8s-aemT"
      },
      "source": [
        "## Clasificación"
      ]
    },
    {
      "cell_type": "code",
      "execution_count": 35,
      "metadata": {
        "id": "IAfgDc0MVIt6"
      },
      "outputs": [],
      "source": [
        "class ClassificationPipeline(BaseEstimator, TransformerMixin):\n",
        "    def __init__(self):\n",
        "        self.smote_params = {'sampling_strategy': 'auto', 'random_state': 42}\n",
        "        self.lr_params = {'solver': 'liblinear', 'max_iter': 200, 'class_weight': 'balanced', 'C': 0.007}\n",
        "        self.smote = None\n",
        "        self.lr_model = None\n",
        "        self.y_test_pred = None\n",
        "\n",
        "    def fit(self, X, y):\n",
        "        # Aplicar SMOTE al conjunto de entrenamiento\n",
        "        if self.smote_params:\n",
        "            self.smote = SMOTE(**self.smote_params)\n",
        "            X_resampled, y_resampled = self.smote.fit_resample(X, y)\n",
        "        else:\n",
        "            X_resampled, y_resampled = X, y\n",
        "\n",
        "        # Entrenar el modelo de regresión logística\n",
        "        if self.lr_params:\n",
        "            self.lr_model = LogisticRegression(**self.lr_params)\n",
        "            self.lr_model.fit(X_resampled, y_resampled)\n",
        "        else:\n",
        "            raise ValueError(\"Se requieren parámetros para el modelo de regresión logística.\")\n",
        "\n",
        "        return self\n",
        "\n",
        "    def transform(self, X):\n",
        "        # No es necesario realizar transformaciones específicas\n",
        "        return X\n",
        "\n",
        "    def predict(self, X):\n",
        "        # Predecir utilizando el modelo de regresión logística entrenado\n",
        "        if self.lr_model:\n",
        "            self.y_test_pred = self.lr_model.predict(X)\n",
        "            return self.y_test_pred\n",
        "        else:\n",
        "            raise ValueError(\"El modelo de regresión logística no ha sido entrenado.\")\n",
        "\n",
        "    def calculate_metrics(self, y_true=None):\n",
        "        if y_true is None:\n",
        "            raise ValueError(\"Se requiere el conjunto de etiquetas verdaderas (y_true) para calcular las métricas.\")\n",
        "\n",
        "        if self.y_test_pred is None:\n",
        "            raise ValueError(\"Primero debes realizar predicciones en los datos de prueba.\")\n",
        "\n",
        "        accuracy = accuracy_score(y_true, self.y_test_pred)\n",
        "        precision = precision_score(y_true, self.y_test_pred)\n",
        "        recall = recall_score(y_true, self.y_test_pred)\n",
        "        f1 = f1_score(y_true, self.y_test_pred)\n",
        "\n",
        "        metrics = {\n",
        "            'Accuracy': accuracy,\n",
        "            'Precision': precision,\n",
        "            'Recall': recall,\n",
        "            'F1 Score': f1\n",
        "        }\n",
        "\n",
        "        return metrics\n"
      ]
    },
    {
      "cell_type": "markdown",
      "metadata": {
        "id": "cb-nsCkvdiYR"
      },
      "source": [
        "# Pipelines"
      ]
    },
    {
      "cell_type": "markdown",
      "metadata": {
        "id": "tQ6PDfz6dSO4"
      },
      "source": [
        "## Regresión"
      ]
    },
    {
      "cell_type": "markdown",
      "metadata": {
        "id": "bq-1HUPKdVmQ"
      },
      "source": [
        "### Crear el pipeline"
      ]
    },
    {
      "cell_type": "code",
      "execution_count": 36,
      "metadata": {
        "colab": {
          "base_uri": "https://localhost:8080/",
          "height": 125
        },
        "id": "7m1dF5BTwstk",
        "outputId": "2d0c2ec6-7bc9-4b9e-c5e8-6e4154d87571"
      },
      "outputs": [
        {
          "data": {
            "text/html": [
              "<style>#sk-container-id-2 {color: black;background-color: white;}#sk-container-id-2 pre{padding: 0;}#sk-container-id-2 div.sk-toggleable {background-color: white;}#sk-container-id-2 label.sk-toggleable__label {cursor: pointer;display: block;width: 100%;margin-bottom: 0;padding: 0.3em;box-sizing: border-box;text-align: center;}#sk-container-id-2 label.sk-toggleable__label-arrow:before {content: \"▸\";float: left;margin-right: 0.25em;color: #696969;}#sk-container-id-2 label.sk-toggleable__label-arrow:hover:before {color: black;}#sk-container-id-2 div.sk-estimator:hover label.sk-toggleable__label-arrow:before {color: black;}#sk-container-id-2 div.sk-toggleable__content {max-height: 0;max-width: 0;overflow: hidden;text-align: left;background-color: #f0f8ff;}#sk-container-id-2 div.sk-toggleable__content pre {margin: 0.2em;color: black;border-radius: 0.25em;background-color: #f0f8ff;}#sk-container-id-2 input.sk-toggleable__control:checked~div.sk-toggleable__content {max-height: 200px;max-width: 100%;overflow: auto;}#sk-container-id-2 input.sk-toggleable__control:checked~label.sk-toggleable__label-arrow:before {content: \"▾\";}#sk-container-id-2 div.sk-estimator input.sk-toggleable__control:checked~label.sk-toggleable__label {background-color: #d4ebff;}#sk-container-id-2 div.sk-label input.sk-toggleable__control:checked~label.sk-toggleable__label {background-color: #d4ebff;}#sk-container-id-2 input.sk-hidden--visually {border: 0;clip: rect(1px 1px 1px 1px);clip: rect(1px, 1px, 1px, 1px);height: 1px;margin: -1px;overflow: hidden;padding: 0;position: absolute;width: 1px;}#sk-container-id-2 div.sk-estimator {font-family: monospace;background-color: #f0f8ff;border: 1px dotted black;border-radius: 0.25em;box-sizing: border-box;margin-bottom: 0.5em;}#sk-container-id-2 div.sk-estimator:hover {background-color: #d4ebff;}#sk-container-id-2 div.sk-parallel-item::after {content: \"\";width: 100%;border-bottom: 1px solid gray;flex-grow: 1;}#sk-container-id-2 div.sk-label:hover label.sk-toggleable__label {background-color: #d4ebff;}#sk-container-id-2 div.sk-serial::before {content: \"\";position: absolute;border-left: 1px solid gray;box-sizing: border-box;top: 0;bottom: 0;left: 50%;z-index: 0;}#sk-container-id-2 div.sk-serial {display: flex;flex-direction: column;align-items: center;background-color: white;padding-right: 0.2em;padding-left: 0.2em;position: relative;}#sk-container-id-2 div.sk-item {position: relative;z-index: 1;}#sk-container-id-2 div.sk-parallel {display: flex;align-items: stretch;justify-content: center;background-color: white;position: relative;}#sk-container-id-2 div.sk-item::before, #sk-container-id-2 div.sk-parallel-item::before {content: \"\";position: absolute;border-left: 1px solid gray;box-sizing: border-box;top: 0;bottom: 0;left: 50%;z-index: -1;}#sk-container-id-2 div.sk-parallel-item {display: flex;flex-direction: column;z-index: 1;position: relative;background-color: white;}#sk-container-id-2 div.sk-parallel-item:first-child::after {align-self: flex-end;width: 50%;}#sk-container-id-2 div.sk-parallel-item:last-child::after {align-self: flex-start;width: 50%;}#sk-container-id-2 div.sk-parallel-item:only-child::after {width: 0;}#sk-container-id-2 div.sk-dashed-wrapped {border: 1px dashed gray;margin: 0 0.4em 0.5em 0.4em;box-sizing: border-box;padding-bottom: 0.4em;background-color: white;}#sk-container-id-2 div.sk-label label {font-family: monospace;font-weight: bold;display: inline-block;line-height: 1.2em;}#sk-container-id-2 div.sk-label-container {text-align: center;}#sk-container-id-2 div.sk-container {/* jupyter's `normalize.less` sets `[hidden] { display: none; }` but bootstrap.min.css set `[hidden] { display: none !important; }` so we also need the `!important` here to be able to override the default hidden behavior on the sphinx rendered scikit-learn.org. See: https://github.com/scikit-learn/scikit-learn/issues/21755 */display: inline-block !important;position: relative;}#sk-container-id-2 div.sk-text-repr-fallback {display: none;}</style><div id=\"sk-container-id-2\" class=\"sk-top-container\"><div class=\"sk-text-repr-fallback\"><pre>Pipeline(steps=[(&#x27;data_processor&#x27;, DataProcessor()),\n",
              "                (&#x27;neural_network&#x27;, NeuralNetworkPipeline())])</pre><b>In a Jupyter environment, please rerun this cell to show the HTML representation or trust the notebook. <br />On GitHub, the HTML representation is unable to render, please try loading this page with nbviewer.org.</b></div><div class=\"sk-container\" hidden><div class=\"sk-item sk-dashed-wrapped\"><div class=\"sk-label-container\"><div class=\"sk-label sk-toggleable\"><input class=\"sk-toggleable__control sk-hidden--visually\" id=\"sk-estimator-id-4\" type=\"checkbox\" ><label for=\"sk-estimator-id-4\" class=\"sk-toggleable__label sk-toggleable__label-arrow\">Pipeline</label><div class=\"sk-toggleable__content\"><pre>Pipeline(steps=[(&#x27;data_processor&#x27;, DataProcessor()),\n",
              "                (&#x27;neural_network&#x27;, NeuralNetworkPipeline())])</pre></div></div></div><div class=\"sk-serial\"><div class=\"sk-item\"><div class=\"sk-estimator sk-toggleable\"><input class=\"sk-toggleable__control sk-hidden--visually\" id=\"sk-estimator-id-5\" type=\"checkbox\" ><label for=\"sk-estimator-id-5\" class=\"sk-toggleable__label sk-toggleable__label-arrow\">DataProcessor</label><div class=\"sk-toggleable__content\"><pre>DataProcessor()</pre></div></div></div><div class=\"sk-item\"><div class=\"sk-estimator sk-toggleable\"><input class=\"sk-toggleable__control sk-hidden--visually\" id=\"sk-estimator-id-6\" type=\"checkbox\" ><label for=\"sk-estimator-id-6\" class=\"sk-toggleable__label sk-toggleable__label-arrow\">NeuralNetworkPipeline</label><div class=\"sk-toggleable__content\"><pre>NeuralNetworkPipeline()</pre></div></div></div></div></div></div></div>"
            ],
            "text/plain": [
              "Pipeline(steps=[('data_processor', DataProcessor()),\n",
              "                ('neural_network', NeuralNetworkPipeline())])"
            ]
          },
          "execution_count": 36,
          "metadata": {},
          "output_type": "execute_result"
        }
      ],
      "source": [
        "# Crear instancias de DataProcessor y NeuralNetworkPipeline\n",
        "data_processor = DataProcessor()\n",
        "neural_network_pipeline = NeuralNetworkPipeline()\n",
        "\n",
        "# Crear el pipeline\n",
        "regression_pipeline = Pipeline([\n",
        "    ('data_processor', data_processor),\n",
        "    ('neural_network', neural_network_pipeline)\n",
        "])\n",
        "regression_pipeline"
      ]
    },
    {
      "cell_type": "markdown",
      "metadata": {
        "id": "gtkZ9ehsdYlB"
      },
      "source": [
        "### Entrenar el pipeline y obtener métricas"
      ]
    },
    {
      "cell_type": "code",
      "execution_count": 37,
      "metadata": {},
      "outputs": [
        {
          "data": {
            "text/plain": [
              "68719    0.0\n",
              "48341    0.0\n",
              "34739    1.0\n",
              "46217    0.0\n",
              "47306    0.0\n",
              "        ... \n",
              "35873    1.0\n",
              "65156    0.0\n",
              "30704    0.0\n",
              "48661    0.0\n",
              "66877    0.0\n",
              "Name: Location_SydneyAirport, Length: 12159, dtype: float64"
            ]
          },
          "execution_count": 37,
          "metadata": {},
          "output_type": "execute_result"
        }
      ],
      "source": [
        "x_train.Location_SydneyAirport"
      ]
    },
    {
      "cell_type": "code",
      "execution_count": 38,
      "metadata": {
        "colab": {
          "base_uri": "https://localhost:8080/"
        },
        "id": "7Gq4-OsJkqoh",
        "outputId": "a7e476fc-fb07-438b-bffa-3b8a0f16ea5c"
      },
      "outputs": [
        {
          "name": "stdout",
          "output_type": "stream",
          "text": [
            "95/95 [==============================] - 1s 9ms/step\n",
            "95/95 [==============================] - 1s 6ms/step\n",
            "95/95 [==============================] - 1s 6ms/step\n",
            "\n",
            "-------------------------------------------------------------\n",
            "R^2 en datos de prueba: 0.33146018241800823\n",
            "RMSE en datos de prueba: 6.07515316017315\n"
          ]
        }
      ],
      "source": [
        "# Entrenar el pipeline con los datos de entrenamiento\n",
        "regression_pipeline.fit(x_train, y_train_reg)\n",
        "\n",
        "# Hacer predicciones en los datos de prueba\n",
        "predictions = regression_pipeline.predict(x_test)\n",
        "\n",
        "# Calcular la métrica R^2 en los datos de prueba\n",
        "r2 = regression_pipeline[1].score(x_test, y_test_reg, metric='r2')\n",
        "\n",
        "# Calcular la métrica RMSE en los datos de prueba\n",
        "rmse = regression_pipeline[1].score(x_test, y_test_reg, metric='rmse')\n",
        "\n",
        "# Imprimir resultados\n",
        "print('\\n-------------------------------------------------------------')\n",
        "print(f'R^2 en datos de prueba: {r2}')\n",
        "print(f'RMSE en datos de prueba: {rmse}')"
      ]
    },
    {
      "cell_type": "code",
      "execution_count": 39,
      "metadata": {
        "colab": {
          "base_uri": "https://localhost:8080/",
          "height": 125
        },
        "id": "vY7TsYNyzaFp",
        "outputId": "45b9a1d4-a16e-47ac-a3fb-dcd0537dcdd6"
      },
      "outputs": [
        {
          "data": {
            "text/html": [
              "<style>#sk-container-id-3 {color: black;background-color: white;}#sk-container-id-3 pre{padding: 0;}#sk-container-id-3 div.sk-toggleable {background-color: white;}#sk-container-id-3 label.sk-toggleable__label {cursor: pointer;display: block;width: 100%;margin-bottom: 0;padding: 0.3em;box-sizing: border-box;text-align: center;}#sk-container-id-3 label.sk-toggleable__label-arrow:before {content: \"▸\";float: left;margin-right: 0.25em;color: #696969;}#sk-container-id-3 label.sk-toggleable__label-arrow:hover:before {color: black;}#sk-container-id-3 div.sk-estimator:hover label.sk-toggleable__label-arrow:before {color: black;}#sk-container-id-3 div.sk-toggleable__content {max-height: 0;max-width: 0;overflow: hidden;text-align: left;background-color: #f0f8ff;}#sk-container-id-3 div.sk-toggleable__content pre {margin: 0.2em;color: black;border-radius: 0.25em;background-color: #f0f8ff;}#sk-container-id-3 input.sk-toggleable__control:checked~div.sk-toggleable__content {max-height: 200px;max-width: 100%;overflow: auto;}#sk-container-id-3 input.sk-toggleable__control:checked~label.sk-toggleable__label-arrow:before {content: \"▾\";}#sk-container-id-3 div.sk-estimator input.sk-toggleable__control:checked~label.sk-toggleable__label {background-color: #d4ebff;}#sk-container-id-3 div.sk-label input.sk-toggleable__control:checked~label.sk-toggleable__label {background-color: #d4ebff;}#sk-container-id-3 input.sk-hidden--visually {border: 0;clip: rect(1px 1px 1px 1px);clip: rect(1px, 1px, 1px, 1px);height: 1px;margin: -1px;overflow: hidden;padding: 0;position: absolute;width: 1px;}#sk-container-id-3 div.sk-estimator {font-family: monospace;background-color: #f0f8ff;border: 1px dotted black;border-radius: 0.25em;box-sizing: border-box;margin-bottom: 0.5em;}#sk-container-id-3 div.sk-estimator:hover {background-color: #d4ebff;}#sk-container-id-3 div.sk-parallel-item::after {content: \"\";width: 100%;border-bottom: 1px solid gray;flex-grow: 1;}#sk-container-id-3 div.sk-label:hover label.sk-toggleable__label {background-color: #d4ebff;}#sk-container-id-3 div.sk-serial::before {content: \"\";position: absolute;border-left: 1px solid gray;box-sizing: border-box;top: 0;bottom: 0;left: 50%;z-index: 0;}#sk-container-id-3 div.sk-serial {display: flex;flex-direction: column;align-items: center;background-color: white;padding-right: 0.2em;padding-left: 0.2em;position: relative;}#sk-container-id-3 div.sk-item {position: relative;z-index: 1;}#sk-container-id-3 div.sk-parallel {display: flex;align-items: stretch;justify-content: center;background-color: white;position: relative;}#sk-container-id-3 div.sk-item::before, #sk-container-id-3 div.sk-parallel-item::before {content: \"\";position: absolute;border-left: 1px solid gray;box-sizing: border-box;top: 0;bottom: 0;left: 50%;z-index: -1;}#sk-container-id-3 div.sk-parallel-item {display: flex;flex-direction: column;z-index: 1;position: relative;background-color: white;}#sk-container-id-3 div.sk-parallel-item:first-child::after {align-self: flex-end;width: 50%;}#sk-container-id-3 div.sk-parallel-item:last-child::after {align-self: flex-start;width: 50%;}#sk-container-id-3 div.sk-parallel-item:only-child::after {width: 0;}#sk-container-id-3 div.sk-dashed-wrapped {border: 1px dashed gray;margin: 0 0.4em 0.5em 0.4em;box-sizing: border-box;padding-bottom: 0.4em;background-color: white;}#sk-container-id-3 div.sk-label label {font-family: monospace;font-weight: bold;display: inline-block;line-height: 1.2em;}#sk-container-id-3 div.sk-label-container {text-align: center;}#sk-container-id-3 div.sk-container {/* jupyter's `normalize.less` sets `[hidden] { display: none; }` but bootstrap.min.css set `[hidden] { display: none !important; }` so we also need the `!important` here to be able to override the default hidden behavior on the sphinx rendered scikit-learn.org. See: https://github.com/scikit-learn/scikit-learn/issues/21755 */display: inline-block !important;position: relative;}#sk-container-id-3 div.sk-text-repr-fallback {display: none;}</style><div id=\"sk-container-id-3\" class=\"sk-top-container\"><div class=\"sk-text-repr-fallback\"><pre>Pipeline(steps=[(&#x27;data_processor&#x27;, DataProcessor()),\n",
              "                (&#x27;classification_pipeline&#x27;, ClassificationPipeline())])</pre><b>In a Jupyter environment, please rerun this cell to show the HTML representation or trust the notebook. <br />On GitHub, the HTML representation is unable to render, please try loading this page with nbviewer.org.</b></div><div class=\"sk-container\" hidden><div class=\"sk-item sk-dashed-wrapped\"><div class=\"sk-label-container\"><div class=\"sk-label sk-toggleable\"><input class=\"sk-toggleable__control sk-hidden--visually\" id=\"sk-estimator-id-7\" type=\"checkbox\" ><label for=\"sk-estimator-id-7\" class=\"sk-toggleable__label sk-toggleable__label-arrow\">Pipeline</label><div class=\"sk-toggleable__content\"><pre>Pipeline(steps=[(&#x27;data_processor&#x27;, DataProcessor()),\n",
              "                (&#x27;classification_pipeline&#x27;, ClassificationPipeline())])</pre></div></div></div><div class=\"sk-serial\"><div class=\"sk-item\"><div class=\"sk-estimator sk-toggleable\"><input class=\"sk-toggleable__control sk-hidden--visually\" id=\"sk-estimator-id-8\" type=\"checkbox\" ><label for=\"sk-estimator-id-8\" class=\"sk-toggleable__label sk-toggleable__label-arrow\">DataProcessor</label><div class=\"sk-toggleable__content\"><pre>DataProcessor()</pre></div></div></div><div class=\"sk-item\"><div class=\"sk-estimator sk-toggleable\"><input class=\"sk-toggleable__control sk-hidden--visually\" id=\"sk-estimator-id-9\" type=\"checkbox\" ><label for=\"sk-estimator-id-9\" class=\"sk-toggleable__label sk-toggleable__label-arrow\">ClassificationPipeline</label><div class=\"sk-toggleable__content\"><pre>ClassificationPipeline()</pre></div></div></div></div></div></div></div>"
            ],
            "text/plain": [
              "Pipeline(steps=[('data_processor', DataProcessor()),\n",
              "                ('classification_pipeline', ClassificationPipeline())])"
            ]
          },
          "execution_count": 39,
          "metadata": {},
          "output_type": "execute_result"
        }
      ],
      "source": [
        "# Crear instancias de las clases\n",
        "data_processor = DataProcessor()\n",
        "classification_pipeline = ClassificationPipeline()\n",
        "\n",
        "# Crear el pipeline completo\n",
        "classification_pipeline = Pipeline([\n",
        "    ('data_processor', data_processor),\n",
        "    ('classification_pipeline', classification_pipeline)\n",
        "])\n",
        "\n",
        "classification_pipeline"
      ]
    },
    {
      "cell_type": "code",
      "execution_count": 40,
      "metadata": {
        "colab": {
          "base_uri": "https://localhost:8080/"
        },
        "id": "_o2iG5s52J29",
        "outputId": "04a1a2cb-687c-4f65-f1b7-178a1f23a655"
      },
      "outputs": [
        {
          "data": {
            "text/plain": [
              "70162   -0.549762\n",
              "67360   -0.549762\n",
              "36093   -0.549762\n",
              "64411   -0.549762\n",
              "64281   -0.549762\n",
              "           ...   \n",
              "47292   -0.549762\n",
              "64724   -0.549762\n",
              "48840   -0.549762\n",
              "66278   -0.549762\n",
              "68426   -0.549762\n",
              "Name: RainToday_Yes, Length: 3040, dtype: float64"
            ]
          },
          "execution_count": 40,
          "metadata": {},
          "output_type": "execute_result"
        }
      ],
      "source": [
        "x_test['RainToday_Yes']"
      ]
    },
    {
      "cell_type": "code",
      "execution_count": 41,
      "metadata": {
        "colab": {
          "base_uri": "https://localhost:8080/"
        },
        "id": "EA1GO6DqzYdg",
        "outputId": "ab92de5d-ced1-48b7-b246-9c4041e5f0be"
      },
      "outputs": [
        {
          "name": "stdout",
          "output_type": "stream",
          "text": [
            "Métricas de clasificación:\n",
            "{'Accuracy': 0.7743421052631579, 'Precision': 0.5089285714285714, 'Recall': 0.7286931818181818, 'F1 Score': 0.5992990654205607}\n"
          ]
        }
      ],
      "source": [
        "# Entrenar el pipeline con los datos de entrenamiento\n",
        "classification_pipeline.fit(x_train, y_train_class)\n",
        "\n",
        "# Hacer predicciones en los datos de prueba\n",
        "y_pred_class = classification_pipeline.predict(x_test)\n",
        "\n",
        "# Calcular y mostrar las métricas\n",
        "metrics_class = classification_pipeline[1].calculate_metrics(y_test_class)\n",
        "print(\"Métricas de clasificación:\")\n",
        "print(metrics_class)"
      ]
    },
    {
      "cell_type": "markdown",
      "metadata": {
        "id": "-xvO4JbrczYu"
      },
      "source": [
        "# Desplegando los Pipelines"
      ]
    },
    {
      "cell_type": "code",
      "execution_count": 42,
      "metadata": {
        "colab": {
          "base_uri": "https://localhost:8080/"
        },
        "id": "mkrCkkaoc_y1",
        "outputId": "08c9ecd4-a7a2-49ef-b463-77d85889102c"
      },
      "outputs": [
        {
          "data": {
            "text/plain": [
              "['rain_prediction_classification.pkl']"
            ]
          },
          "execution_count": 42,
          "metadata": {},
          "output_type": "execute_result"
        }
      ],
      "source": [
        "# Usar joblib para exportar los pipelines\n",
        "joblib.dump(regression_pipeline, 'rain_prediction_regression.pkl')\n",
        "joblib.dump(classification_pipeline, 'rain_prediction_classification.pkl')"
      ]
    }
  ],
  "metadata": {
    "colab": {
      "provenance": []
    },
    "kernelspec": {
      "display_name": "Python 3",
      "name": "python3"
    },
    "language_info": {
      "codemirror_mode": {
        "name": "ipython",
        "version": 3
      },
      "file_extension": ".py",
      "mimetype": "text/x-python",
      "name": "python",
      "nbconvert_exporter": "python",
      "pygments_lexer": "ipython3",
      "version": "3.10.12"
    }
  },
  "nbformat": 4,
  "nbformat_minor": 0
}
